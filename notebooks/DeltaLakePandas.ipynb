{
 "cells": [
  {
   "cell_type": "code",
   "execution_count": 6,
   "id": "a5d86aca-00a1-433e-99d6-3180610b68c2",
   "metadata": {},
   "outputs": [],
   "source": [
    "import pyspark\n",
    "from delta import *\n",
    "\n",
    "builder = (\n",
    "    pyspark.sql.SparkSession.builder.appName(\"MyApp\")\n",
    "    .config(\"spark.sql.extensions\", \"io.delta.sql.DeltaSparkSessionExtension\")\n",
    "    .config(\n",
    "        \"spark.sql.catalog.spark_catalog\",\n",
    "        \"org.apache.spark.sql.delta.catalog.DeltaCatalog\",\n",
    "    )\n",
    ")\n",
    "\n",
    "spark = configure_spark_with_delta_pip(builder).getOrCreate()\n"
   ]
  },
  {
   "cell_type": "code",
   "execution_count": 7,
   "id": "154af407-23b1-435e-9627-f8fa280e2e0e",
   "metadata": {},
   "outputs": [],
   "source": [
    "import pandas as pd\n",
    "from deltalake import write_deltalake, DeltaTable\n"
   ]
  },
  {
   "cell_type": "code",
   "execution_count": 8,
   "id": "7eb8cdc4-168f-459e-9ea3-4cdda4f416bd",
   "metadata": {},
   "outputs": [],
   "source": [
    "data = {'first_name': ['bob', 'li', 'leah'], 'age': [47, 23, 51]}\n",
    "data_2 = {\"first_name\": [\"suh\", \"anais\"], \"age\": [33, 68]}\n"
   ]
  },
  {
   "cell_type": "code",
   "execution_count": 11,
   "id": "615d2c06-7ac0-444a-b397-010d23c89868",
   "metadata": {},
   "outputs": [],
   "source": [
    "df = pd.DataFrame.from_dict(data)\n",
    "# Convert Pandas DataFrame to PySpark DataFrame\n",
    "df = spark.createDataFrame(df)\n"
   ]
  },
  {
   "cell_type": "code",
   "execution_count": 13,
   "id": "09f042d1-c013-4d6e-bece-a0cb2f5649c0",
   "metadata": {},
   "outputs": [],
   "source": [
    "df.write.format(\"delta\").save(\"/tmp/spark-delta-table-pandas2\")"
   ]
  },
  {
   "cell_type": "code",
   "execution_count": null,
   "id": "884a7890-026e-46cf-8680-1b9489c0717d",
   "metadata": {},
   "outputs": [],
   "source": []
  }
 ],
 "metadata": {
  "kernelspec": {
   "display_name": "Python 3 (ipykernel)",
   "language": "python",
   "name": "python3"
  },
  "language_info": {
   "codemirror_mode": {
    "name": "ipython",
    "version": 3
   },
   "file_extension": ".py",
   "mimetype": "text/x-python",
   "name": "python",
   "nbconvert_exporter": "python",
   "pygments_lexer": "ipython3",
   "version": "3.11.6"
  }
 },
 "nbformat": 4,
 "nbformat_minor": 5
}
