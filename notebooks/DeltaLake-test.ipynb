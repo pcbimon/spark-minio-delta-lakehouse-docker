{
 "cells": [
  {
   "cell_type": "code",
   "execution_count": 1,
   "id": "d665ffd2-7cd8-4f93-9688-91848950b5dd",
   "metadata": {},
   "outputs": [],
   "source": [
    "import pyspark\n",
    "from delta import *\n",
    "\n",
    "builder = (\n",
    "    pyspark.sql.SparkSession.builder.appName(\"MyApp\")\n",
    "    .config(\"spark.sql.extensions\", \"io.delta.sql.DeltaSparkSessionExtension\")\n",
    "    .config(\n",
    "        \"spark.sql.catalog.spark_catalog\",\n",
    "        \"org.apache.spark.sql.delta.catalog.DeltaCatalog\",\n",
    "    )\n",
    ")\n",
    "\n",
    "spark = configure_spark_with_delta_pip(builder).getOrCreate()\n"
   ]
  },
  {
   "cell_type": "code",
   "execution_count": 2,
   "id": "f2de3f44-ab85-40c7-a993-15b970e595e6",
   "metadata": {},
   "outputs": [],
   "source": [
    "data = [\n",
    "    {\"first_name\": \"bob\", \"age\": 47},\n",
    "    {\"first_name\": \"li\", \"age\": 23},\n",
    "    {\"first_name\": \"leah\", \"age\": 51},\n",
    "]\n",
    "\n",
    "df = spark.createDataFrame(data=data)\n"
   ]
  },
  {
   "cell_type": "code",
   "execution_count": 4,
   "id": "e4b738fe-83f3-4201-bdba-cdd293c4a473",
   "metadata": {},
   "outputs": [],
   "source": [
    "# write data to delta table\n",
    "df.write.format(\"delta\").save(\"/tmp/spark-delta-table\")"
   ]
  },
  {
   "cell_type": "code",
   "execution_count": 5,
   "id": "761e858d-d259-443e-84b8-1b425a29c565",
   "metadata": {},
   "outputs": [
    {
     "name": "stdout",
     "output_type": "stream",
     "text": [
      "+---+----------+\n",
      "|age|first_name|\n",
      "+---+----------+\n",
      "| 51|      leah|\n",
      "| 47|       bob|\n",
      "| 23|        li|\n",
      "+---+----------+\n",
      "\n"
     ]
    }
   ],
   "source": [
    "df = spark.read.format(\"delta\").load(\"/tmp/spark-delta-table\")\n",
    "df.show()"
   ]
  },
  {
   "cell_type": "code",
   "execution_count": 6,
   "id": "27c4e361-dea3-42cc-bdd7-ac37906dde78",
   "metadata": {},
   "outputs": [],
   "source": [
    "data2 = [\n",
    "    {'first_name': 'suh', 'age': 33},\n",
    "    {'first_name': 'anais', 'age': 68},\n",
    "]\n",
    "\n",
    "df2 = spark.createDataFrame(data=data2)\n",
    "df2.write.format(\"delta\").mode(\"append\").save(\"/tmp/spark-delta-table/\")\n"
   ]
  },
  {
   "cell_type": "code",
   "execution_count": null,
   "id": "30a3a74a-ff9e-4abc-a993-b78f6a13e79e",
   "metadata": {},
   "outputs": [],
   "source": []
  }
 ],
 "metadata": {
  "kernelspec": {
   "display_name": "Python 3 (ipykernel)",
   "language": "python",
   "name": "python3"
  },
  "language_info": {
   "codemirror_mode": {
    "name": "ipython",
    "version": 3
   },
   "file_extension": ".py",
   "mimetype": "text/x-python",
   "name": "python",
   "nbconvert_exporter": "python",
   "pygments_lexer": "ipython3",
   "version": "3.11.6"
  }
 },
 "nbformat": 4,
 "nbformat_minor": 5
}
